{
 "cells": [
  {
   "cell_type": "markdown",
   "metadata": {},
   "source": [
    "## Prueba tecnica Científico de Datos Gerencia Tecnica en Inteligencia Artificial\n",
    "\n",
    "### Centro de Excelencia Analítica, Inteligencia Artificial y Gobierno de la Información\n",
    "### Vicepresidencia de Analítica, Datos e Inteligencia Artificial\n",
    "\n",
    "Julian David Rivera Hoyos\n",
    "#### Pasos:\n",
    "- Realizar embedding sobre el entrenamiento para validar la eficienciad del modelo encontrando los documentos relevantes y comprombar la medida de MMR\n",
    "- Se realiza un embedding sobre el modelo de Open AI text-embedding-ada-002 para el test query y test document\n",
    "- Se crea el algoritmo para evaluar cosine similarity entre el query test embedding y el document test embedding y recuperar los 10 mejores resultados\n",
    "    en cuanto a esta metrica.\n",

    "Notas: Se realizo la prueba tambien con un modelo de tokenizacion y embebido de bert donde La media de los MMR es : 0.33875.\n",
    "        Se considero construir un modelo proprio atravez de el algoritmo basado en el paper \"Attention is all you need\" (transformer) realizando una tokenizacion y embedding propio pero dado el rendimiendo bajo de bert en comparacion con ada-v2, para obtener un resultado similar a la referencia ada-v2 con un modelo propio se requiere una mayor conjunto de entremiento de procesamiento, y tiempo de estudio para la construccion de este, por tanto se obta por la solucion inicial.\n",
    "\n",
    "#### Referencias:\n",
    "\n",
    "- https://platform.openai.com/docs/guides/embeddings\n",
    "- https://learn.microsoft.com/en-us/azure/ai-services/openai/tutorials/embeddings?tabs=python%2Ccommand-line&pivots=programming-language-python\n",
    "- https://www.tensorflow.org/text/tutorials/transformer\n",
    "- https://www.tensorflow.org/text/guide/subwords_tokenizer\n"
   ]
  },
  {
   "cell_type": "markdown",
   "metadata": {},
   "source": [
    "### Embeddings OPEN AI text-embedding-ada-002\n"
   ]
  },
  {
   "cell_type": "code",
   "execution_count": 1,
   "metadata": {},
   "outputs": [],
   "source": [
    "import pandas as pd\n",
    "import openai\n",
    "import json\n",
    "from openai.embeddings_utils import get_embedding, cosine_similarity\n",
    "import tiktoken\n",
    "import os"
   ]
  },
  {
   "cell_type": "code",
   "execution_count": 2,
   "metadata": {},
   "outputs": [],
   "source": [
    "SECRET_KEY= os.getenv(\"SECRET_KEY_OPENAI\")\n",
    "openai.api_key = SECRET_KEY"
   ]
  },
  {
   "cell_type": "markdown",
   "metadata": {},
   "source": [
    "#### Cargue de informacion y validaciones"
   ]
  },
  {
   "cell_type": "code",
   "execution_count": 6,
   "metadata": {},
   "outputs": [
    {
     "name": "stdout",
     "output_type": "stream",
     "text": [
      "(4000, 3)\n"
     ]
    }
   ],
   "source": [
    "# Cargar datos de entrenamiento\n",
    "train_data = pd.read_csv('./Insumos/train.csv')\n",
    "test_query_data = pd.read_csv('./Insumos/test_queries.csv')\n",
    "test_documents_data = pd.read_csv('./Insumos/test_documents.csv')\n",
    "print(train_data.shape)\n"
   ]
  },
  {
   "cell_type": "code",
   "execution_count": 7,
   "metadata": {},
   "outputs": [
    {
     "data": {
      "text/plain": [
       "4000"
      ]
     },
     "execution_count": 7,
     "metadata": {},
     "output_type": "execute_result"
    }
   ],
   "source": [
    "###### validacion tokens documentos y querys evitar error en la base de train\n",
    "tokenizer = tiktoken.get_encoding(\"cl100k_base\")\n",
    "train_data['n_tokens_documents'] = train_data[\"document\"].apply(lambda x: len(tokenizer.encode(x)))\n",
    "train_data = train_data[train_data.n_tokens_documents<8192]\n",
    "\n",
    "train_data['n_tokens_query'] = train_data[\"query\"].apply(lambda x: len(tokenizer.encode(x)))\n",
    "train_data = train_data[train_data.n_tokens_query<8192]\n",
    "len(train_data)\n"
   ]
  },
  {
   "cell_type": "markdown",
   "metadata": {},
   "source": [
    "#### Embedding query y document revisar eficiencia modelo evaludacion sobre train (on premise)"
   ]
  },
  {
   "cell_type": "code",
   "execution_count": 50,
   "metadata": {},
   "outputs": [],
   "source": [
    "### Embedding de docuemntos y querys 26 min y 0.05 dolares 8000 llamados\n",
    "train_data['ada_v2'] = train_data[\"document\"].apply(lambda x : get_embedding(x, engine = 'text-embedding-ada-002')) \n",
    "train_data['ada_query_v2'] = train_data[\"query\"].apply(lambda x : get_embedding(x, engine = 'text-embedding-ada-002'))"
   ]
  },
  {
   "cell_type": "code",
   "execution_count": null,
   "metadata": {},
   "outputs": [],
   "source": [
    "### copia del train data\n",
    "train_datacopy= train_data.copy()"
   ]
  },
  {
   "cell_type": "code",
   "execution_count": 106,
   "metadata": {},
   "outputs": [],
   "source": [
    "# Busqueda del documento con mayor simulitud y ranqueo\n",
    "def search_docs_onprimse(df, user_query, top_n=3, to_print=True):\n",
    "    embedding = df.query(f'query==\"{user_query}\"')\\\n",
    "                    [['query','ada_query_v2']].drop_duplicates(subset='query')\\\n",
    "                    .ada_query_v2.values[0]\n",
    "    df[\"similarities\"] = df.ada_v2.apply(lambda x: cosine_similarity(x, embedding))\n",
    "\n",
    "    res = (\n",
    "        df.sort_values(\"similarities\", ascending=False)\n",
    "        .head(top_n)\n",
    "    )\n",
    "    if to_print:\n",
    "        display(res)\n",
    "    return res"
   ]
  },
  {
   "cell_type": "code",
   "execution_count": 123,
   "metadata": {},
   "outputs": [
    {
     "data": {
      "text/html": [
       "<div>\n",
       "<style scoped>\n",
       "    .dataframe tbody tr th:only-of-type {\n",
       "        vertical-align: middle;\n",
       "    }\n",
       "\n",
       "    .dataframe tbody tr th {\n",
       "        vertical-align: top;\n",
       "    }\n",
       "\n",
       "    .dataframe thead th {\n",
       "        text-align: right;\n",
       "    }\n",
       "</style>\n",
       "<table border=\"1\" class=\"dataframe\">\n",
       "  <thead>\n",
       "    <tr style=\"text-align: right;\">\n",
       "      <th></th>\n",
       "      <th>query</th>\n",
       "      <th>document</th>\n",
       "      <th>label</th>\n",
       "      <th>n_tokens</th>\n",
       "      <th>ada_v2</th>\n",
       "      <th>similarities</th>\n",
       "      <th>n_tokens_documents</th>\n",
       "      <th>n_tokens_query</th>\n",
       "      <th>ada_query_v2</th>\n",
       "    </tr>\n",
       "  </thead>\n",
       "  <tbody>\n",
       "    <tr>\n",
       "      <th>2037</th>\n",
       "      <td>Sprint pagar por teléfono número de teléfono</td>\n",
       "      <td>Una vez hecho esto, llamé a Sprint y pagué el ...</td>\n",
       "      <td>0</td>\n",
       "      <td>227</td>\n",
       "      <td>[-0.024288080632686615, -0.008756246417760849,...</td>\n",
       "      <td>0.879989</td>\n",
       "      <td>227</td>\n",
       "      <td>10</td>\n",
       "      <td>[-0.02328476868569851, -0.0063414848409593105,...</td>\n",
       "    </tr>\n",
       "    <tr>\n",
       "      <th>1258</th>\n",
       "      <td>Sprint pagar por teléfono número de teléfono</td>\n",
       "      <td>Pague en Western Union Pague en efectivo en un...</td>\n",
       "      <td>0</td>\n",
       "      <td>60</td>\n",
       "      <td>[-0.02454003505408764, 0.0006356459925882518, ...</td>\n",
       "      <td>0.878386</td>\n",
       "      <td>60</td>\n",
       "      <td>10</td>\n",
       "      <td>[-0.02328476868569851, -0.0063414848409593105,...</td>\n",
       "    </tr>\n",
       "    <tr>\n",
       "      <th>2862</th>\n",
       "      <td>Sprint pagar por teléfono número de teléfono</td>\n",
       "      <td>El número de teléfono del servicio de atención...</td>\n",
       "      <td>0</td>\n",
       "      <td>54</td>\n",
       "      <td>[-0.024725748226046562, -0.016670186072587967,...</td>\n",
       "      <td>0.869661</td>\n",
       "      <td>54</td>\n",
       "      <td>10</td>\n",
       "      <td>[-0.02328476868569851, -0.0063414848409593105,...</td>\n",
       "    </tr>\n",
       "    <tr>\n",
       "      <th>3040</th>\n",
       "      <td>Sprint pagar por teléfono número de teléfono</td>\n",
       "      <td>No encienda su nuevo teléfono hasta que se le ...</td>\n",
       "      <td>0</td>\n",
       "      <td>182</td>\n",
       "      <td>[-0.02211853116750717, 0.0022170543670654297, ...</td>\n",
       "      <td>0.868756</td>\n",
       "      <td>182</td>\n",
       "      <td>10</td>\n",
       "      <td>[-0.02328476868569851, -0.0063414848409593105,...</td>\n",
       "    </tr>\n",
       "    <tr>\n",
       "      <th>515</th>\n",
       "      <td>Sprint pagar por teléfono número de teléfono</td>\n",
       "      <td>Encuentra todos los números de teléfono de ser...</td>\n",
       "      <td>1</td>\n",
       "      <td>68</td>\n",
       "      <td>[-0.01686677150428295, -0.0011378501076251268,...</td>\n",
       "      <td>0.868099</td>\n",
       "      <td>68</td>\n",
       "      <td>10</td>\n",
       "      <td>[-0.02328476868569851, -0.0063414848409593105,...</td>\n",
       "    </tr>\n",
       "    <tr>\n",
       "      <th>2893</th>\n",
       "      <td>Sprint pagar por teléfono número de teléfono</td>\n",
       "      <td>No puedo hablar con una persona por teléfono. ...</td>\n",
       "      <td>0</td>\n",
       "      <td>112</td>\n",
       "      <td>[-0.04287382587790489, -0.011538065969944, 0.0...</td>\n",
       "      <td>0.852367</td>\n",
       "      <td>112</td>\n",
       "      <td>10</td>\n",
       "      <td>[-0.02328476868569851, -0.0063414848409593105,...</td>\n",
       "    </tr>\n",
       "    <tr>\n",
       "      <th>2036</th>\n",
       "      <td>irondequoit publicar el número de teléfono del...</td>\n",
       "      <td>Búsquedas sencillas y rápidas de números de te...</td>\n",
       "      <td>0</td>\n",
       "      <td>50</td>\n",
       "      <td>[-0.03782542422413826, -0.015122460201382637, ...</td>\n",
       "      <td>0.837941</td>\n",
       "      <td>50</td>\n",
       "      <td>15</td>\n",
       "      <td>[-0.027928942814469337, 0.013089223764836788, ...</td>\n",
       "    </tr>\n",
       "    <tr>\n",
       "      <th>2629</th>\n",
       "      <td>bloquear el número al hacer una llamada de tel...</td>\n",
       "      <td>1 Para mostrar su número cuando llame desde un...</td>\n",
       "      <td>0</td>\n",
       "      <td>134</td>\n",
       "      <td>[-0.011793140321969986, 0.0036011759657412767,...</td>\n",
       "      <td>0.836978</td>\n",
       "      <td>134</td>\n",
       "      <td>14</td>\n",
       "      <td>[-0.022826524451375008, -0.011799819767475128,...</td>\n",
       "    </tr>\n",
       "    <tr>\n",
       "      <th>874</th>\n",
       "      <td>bloquear el número al hacer una llamada de tel...</td>\n",
       "      <td>150317 Así que te han pirateado y el hacker ob...</td>\n",
       "      <td>0</td>\n",
       "      <td>78</td>\n",
       "      <td>[-0.03610488399863243, -0.024262789636850357, ...</td>\n",
       "      <td>0.829638</td>\n",
       "      <td>78</td>\n",
       "      <td>14</td>\n",
       "      <td>[-0.022826524451375008, -0.011799819767475128,...</td>\n",
       "    </tr>\n",
       "    <tr>\n",
       "      <th>2894</th>\n",
       "      <td>bloquear el número al hacer una llamada de tel...</td>\n",
       "      <td>Tenga en cuenta que no puede bloquear su númer...</td>\n",
       "      <td>0</td>\n",
       "      <td>92</td>\n",
       "      <td>[-0.016213063150644302, 0.004005840979516506, ...</td>\n",
       "      <td>0.829470</td>\n",
       "      <td>92</td>\n",
       "      <td>14</td>\n",
       "      <td>[-0.022826524451375008, -0.011799819767475128,...</td>\n",
       "    </tr>\n",
       "  </tbody>\n",
       "</table>\n",
       "</div>"
      ],
      "text/plain": [
       "                                                  query  \\\n",
       "2037       Sprint pagar por teléfono número de teléfono   \n",
       "1258       Sprint pagar por teléfono número de teléfono   \n",
       "2862       Sprint pagar por teléfono número de teléfono   \n",
       "3040       Sprint pagar por teléfono número de teléfono   \n",
       "515        Sprint pagar por teléfono número de teléfono   \n",
       "2893       Sprint pagar por teléfono número de teléfono   \n",
       "2036  irondequoit publicar el número de teléfono del...   \n",
       "2629  bloquear el número al hacer una llamada de tel...   \n",
       "874   bloquear el número al hacer una llamada de tel...   \n",
       "2894  bloquear el número al hacer una llamada de tel...   \n",
       "\n",
       "                                               document  label  n_tokens  \\\n",
       "2037  Una vez hecho esto, llamé a Sprint y pagué el ...      0       227   \n",
       "1258  Pague en Western Union Pague en efectivo en un...      0        60   \n",
       "2862  El número de teléfono del servicio de atención...      0        54   \n",
       "3040  No encienda su nuevo teléfono hasta que se le ...      0       182   \n",
       "515   Encuentra todos los números de teléfono de ser...      1        68   \n",
       "2893  No puedo hablar con una persona por teléfono. ...      0       112   \n",
       "2036  Búsquedas sencillas y rápidas de números de te...      0        50   \n",
       "2629  1 Para mostrar su número cuando llame desde un...      0       134   \n",
       "874   150317 Así que te han pirateado y el hacker ob...      0        78   \n",
       "2894  Tenga en cuenta que no puede bloquear su númer...      0        92   \n",
       "\n",
       "                                                 ada_v2  similarities  \\\n",
       "2037  [-0.024288080632686615, -0.008756246417760849,...      0.879989   \n",
       "1258  [-0.02454003505408764, 0.0006356459925882518, ...      0.878386   \n",
       "2862  [-0.024725748226046562, -0.016670186072587967,...      0.869661   \n",
       "3040  [-0.02211853116750717, 0.0022170543670654297, ...      0.868756   \n",
       "515   [-0.01686677150428295, -0.0011378501076251268,...      0.868099   \n",
       "2893  [-0.04287382587790489, -0.011538065969944, 0.0...      0.852367   \n",
       "2036  [-0.03782542422413826, -0.015122460201382637, ...      0.837941   \n",
       "2629  [-0.011793140321969986, 0.0036011759657412767,...      0.836978   \n",
       "874   [-0.03610488399863243, -0.024262789636850357, ...      0.829638   \n",
       "2894  [-0.016213063150644302, 0.004005840979516506, ...      0.829470   \n",
       "\n",
       "      n_tokens_documents  n_tokens_query  \\\n",
       "2037                 227              10   \n",
       "1258                  60              10   \n",
       "2862                  54              10   \n",
       "3040                 182              10   \n",
       "515                   68              10   \n",
       "2893                 112              10   \n",
       "2036                  50              15   \n",
       "2629                 134              14   \n",
       "874                   78              14   \n",
       "2894                  92              14   \n",
       "\n",
       "                                           ada_query_v2  \n",
       "2037  [-0.02328476868569851, -0.0063414848409593105,...  \n",
       "1258  [-0.02328476868569851, -0.0063414848409593105,...  \n",
       "2862  [-0.02328476868569851, -0.0063414848409593105,...  \n",
       "3040  [-0.02328476868569851, -0.0063414848409593105,...  \n",
       "515   [-0.02328476868569851, -0.0063414848409593105,...  \n",
       "2893  [-0.02328476868569851, -0.0063414848409593105,...  \n",
       "2036  [-0.027928942814469337, 0.013089223764836788, ...  \n",
       "2629  [-0.022826524451375008, -0.011799819767475128,...  \n",
       "874   [-0.022826524451375008, -0.011799819767475128,...  \n",
       "2894  [-0.022826524451375008, -0.011799819767475128,...  "
      ]
     },
     "metadata": {},
     "output_type": "display_data"
    }
   ],
   "source": [
    "### prueba de la funcion\n",
    "respuesta= search_docs_onprimse(train_datacopy,'Sprint pagar por teléfono número de teléfono', top_n=10)"
   ]
  },
  {
   "cell_type": "markdown",
   "metadata": {},
   "source": [
    "### Ranking en Train y Evaludacion de 'text-embedding-ada-002' en train bajo la metrica de MMR"
   ]
  },
  {
   "cell_type": "code",
   "execution_count": 147,
   "metadata": {},
   "outputs": [],
   "source": [
    "df_resuelto= pd.DataFrame()\n",
    "preguntas={}\n",
    "mmr=[]\n",
    "for query in train_data['query'].unique():\n",
    "    respuestaTemporal= search_docs_onprimse(train_datacopy,query, to_print=False)\n",
    "    documentos= respuestaTemporal.document.to_list()\n",
    "    preguntas[query]= documentos\n",
    "    try:\n",
    "        valor= respuestaTemporal.reset_index(drop=True)\\\n",
    "                .query('label==1').index[0]+1\n",
    "        mmrTemporal= 1/valor\n",
    "    except:\n",
    "        mmrTemporal=0\n",
    "    mmr.append(mmrTemporal)\n",
    "    \n",
    "    "
   ]
  },
  {
   "cell_type": "code",
   "execution_count": 157,
   "metadata": {},
   "outputs": [
    {
     "name": "stdout",
     "output_type": "stream",
     "text": [
      "Resultados guardados en results.json\n",
      "La media de los MMR es : 0.8562499999999998\n"
     ]
    }
   ],
   "source": [
    "# Especificamos la ruta del archivo JSON\n",
    "ruta_archivo = \"./Ejecuciones/results_train_ada_v2.json\"\n",
    "\n",
    "# Guardamos el diccionario como JSON en el archivo\n",
    "with open(ruta_archivo,\"w\") as archivo:\n",
    "    json.dump(preguntas, archivo)\n",
    "\n",
    "print(\"Resultados guardados en results_train_ada_v2.json\")\n",
    "print('La media de los MMR es :',sum(mmr)/len(mmr))"
   ]
  },
  {
   "cell_type": "markdown",
   "metadata": {},
   "source": [
    "#### Ejecucion de modelo Ada sobre test_queries y test_documents"
   ]
  },
  {
   "cell_type": "code",
   "execution_count": 8,
   "metadata": {},
   "outputs": [],
   "source": [
    "### enbedding de querys\n",
    "test_query_data['ada_query_v2'] = test_query_data[\"query\"].apply(lambda x : get_embedding(x, engine = 'text-embedding-ada-002'))"
   ]
  },
  {
   "cell_type": "code",
   "execution_count": 163,
   "metadata": {},
   "outputs": [],
   "source": [
    "### enbedding de documentos\n",
    "test_documents_data['ada_v2'] = test_documents_data[\"document\"].apply(lambda x : get_embedding(x, engine = 'text-embedding-ada-002'))"
   ]
  },
  {
   "cell_type": "code",
   "execution_count": 169,
   "metadata": {},
   "outputs": [],
   "source": [
    "resultado={}\n",
    "top_n=10\n",
    "for index,row in test_query_data.iterrows():\n",
    "    embedding= row['ada_query_v2']\n",
    "    df_temporal= test_documents_data.copy()\n",
    "    df_temporal[\"similarities\"] = df_temporal.ada_v2.apply(lambda x: cosine_similarity(x, embedding))\n",
    "    lista_TopDocumentos_relevantes= df_temporal.sort_values(\"similarities\", ascending=False)\\\n",
    "                                                        .head(top_n)['document_id'].to_list()\n",
    "    resultado[row['query_id']]= lista_TopDocumentos_relevantes"
   ]
  },
  {
   "cell_type": "code",
   "execution_count": null,
   "metadata": {},
   "outputs": [],
   "source": [
    "# Especificamos la ruta del archivo JSON\n",
    "ruta_archivo = \"./Ejecuciones/results_test_ada_v2.json\"\n",
    "\n",
    "# Guardamos el diccionario como JSON en el archivo\n",
    "with open(ruta_archivo, \"w\") as archivo:\n",
    "    json.dump(resultado, archivo)\n",
    "\n",
    "print(\"Resultados guardados en results_test_ada_v2.json\")"
   ]
  },
  {
   "cell_type": "code",
   "execution_count": 177,
   "metadata": {},
   "outputs": [
    {
     "name": "stdout",
     "output_type": "stream",
     "text": [
      "['¿Cuánto tiempo dura el proceso de una prueba de paternidad?']\n",
      "****************************************\n",
      "['En el caso de las pruebas de paternidad legales, es necesario que un tercero sin interés personal o contingente en el asunto recolecte las muestras para la prueba. Hay varios laboratorios en todo el mundo que realizan pruebas de paternidad. Por lo general, se requiere una cita para realizar una prueba de paternidad legal, por lo que es recomendable programarla con al menos 24 horas de anticipación. La mayoría de los laboratorios tardan entre dos y tres días en completar el proceso de prueba. Si necesita obtener los resultados de la prueba de paternidad legal de manera más rápida, puede verificar si el laboratorio permite el acceso a los resultados en línea tan pronto como estén disponibles. Por otro lado, en la prueba de paternidad personal, usted mismo debe recolectar la muestra.']\n",
      "['Si se realiza una prueba de paternidad entre un presunto padre y un hijo, el costo de laboratorio sería de $89. Si se realizara la prueba entre dos presuntos padres y un hijo, el costo de laboratorio sería de $178 para la prueba de paternidad de tranquilidad personal. La privacidad de los clientes es una preocupación, por lo que no se contactará a nadie con su información o resultados.']\n",
      "['En Internet, hay varias empresas que ofrecen pruebas de paternidad a precios más económicos. En DDC, por ejemplo, el costo de la prueba de paternidad puede variar entre $159 y $459, dependiendo de los servicios necesarios. A menudo, existe una relación directa entre el costo y la calidad de la prueba de paternidad. Además, es posible encontrar descuentos adicionales.']\n",
      "['Puedes ordenar la prueba de paternidad de ADN prenatal AHORA a través del Centro Genético Prenatal. Esta prueba se puede realizar después de la décima semana de gestación. La empresa te proporcionará un kit de recolección de muestras especial que incluirá todo lo necesario para recolectar la muestra de sangre.']\n",
      "['GTL Australia ofrece una prueba de paternidad prenatal en el hogar que puede ayudar a determinar la paternidad de su hijo mientras aún está en el útero. Esta prueba se realiza con la ayuda de un obstetra ginecólogo y se pueden recolectar muestras de ADN durante el primer o segundo trimestre del embarazo.']\n",
      "['La duración de una prueba a corto plazo es de 48 a 96 horas, mientras que una prueba a largo plazo dura tres meses. En general, ofrecemos pruebas a corto plazo a pedido del cliente, pero si tienes tiempo, una prueba a largo plazo es la mejor opción. Si no calificas para el Programa de prueba de radón GRATUITO y no quieres arriesgarte a tener que pagar $100-$150, puedes consultar cómo realizar una prueba de radón en tu hogar.']\n",
      "['Los resultados de la prueba de Papanicolaou pueden tardar hasta tres semanas en estar listos. Si los resultados muestran algo anormal, su médico se pondrá en contacto con usted para determinar el siguiente paso a seguir. Existen varias razones por las cuales los resultados de la prueba de Papanicolaou pueden no ser normales.']\n",
      "['Los resultados de la prueba de Papanicolaou pueden tardar hasta tres semanas en estar listos. Si los resultados muestran algo anormal, su médico se pondrá en contacto con usted para determinar el mejor curso de acción. Hay varias razones por las que los resultados de la prueba de Papanicolaou pueden no ser normales.']\n",
      "['Las pruebas de cabello son una opción para detectar el uso de drogas hasta 90 días antes de la fecha de la prueba y son menos invasivas. Por esta razón, cada vez más empleadores eligen realizar pruebas de cabello durante las pruebas de detección de drogas. Sin embargo, los resultados de las pruebas de cabello suelen tardar más que las pruebas de orina. Cuando las pruebas de detección de drogas arrojan un resultado negativo, el solicitante no necesita repetir la prueba. Los resultados de una prueba negativa suelen estar disponibles para los empleadores en un plazo de tres días hábiles después de la finalización de la prueba.']\n",
      "['En Wisconsin, si la madre no estuvo casada durante el período entre la concepción y el nacimiento, hay tres opciones disponibles para agregar el nombre del padre al registro de nacimiento. Si los padres no están casados pero ambos están dispuestos a hacerlo, pueden completar un formulario de Reconocimiento voluntario de paternidad.']\n",
      "________________________________________________________________________________\n",
      "['¿En qué lugar se cultiva la berenjena?']\n",
      "****************************************\n",
      "['La berenjena (Solanum melongena) es una hortaliza que puede ser cultivada en el jardín, pero es muy sensible al frío. Al igual que los pimientos y los tomates, pertenece a la misma familia. Es importante plantar las berenjenas después de que haya pasado cualquier posibilidad de heladas. Si se cultivan a partir de semillas, es recomendable hacerlo en interiores o en un invernadero para proteger las plántulas de las heladas. Si se plantan demasiado pronto, existe el riesgo de dañar las plantas.']\n",
      "['La berenjena, también conocida como Solanum melongena, es una especie de planta que se cultiva por su fruto comestible. Es conocida como berenjena en el sur de Asia, el sudeste de Asia y Sudáfrica. En inglés norteamericano y australiano se le llama berenjena, mientras que en inglés británico se utiliza el término aubergine. Otros nombres comunes incluyen melongene, garden egg o guinea squash. La fruta de la berenjena es ampliamente utilizada en la cocina y pertenece al mismo género que el tomate y la patata, Solanum.']\n",
      "['Se ha votado a favor con 36 votos y en contra ha sido aceptado. La palabra \"berenjena\" es de origen británico, posiblemente derivada del francés, aunque no hay suficiente información para determinar con exactitud. En el Reino Unido, muchos cocineros no estarían familiarizados con el término \"berenjena\". En cambio, en Norteamérica ocurre lo contrario. Personalmente, encuentro que la palabra \"berenjena\" suena más natural, ya que es similar al término en alemán (berenjena), que es mi lengua materna. No es una actitud engreída o extraña. Lo importante es cómo se utilizan las palabras \"berenjena\" y \"berenjena\".']\n",
      "['Las fresas son una excelente opción para cultivar en contenedores, incluso en interiores. Solo necesitan un lugar soleado donde puedan recibir al menos de seis a ocho horas de luz solar al día. En caso de no contar con una ventana lo suficientemente soleada, se puede complementar con luz solar artificial.']\n",
      "['Después de eso, añada los tomates y la berenjena a la mezcla y revuelva hasta que la berenjena esté completamente cubierta con las especias. Cubra la mezcla y cocine a fuego medio-bajo hasta que la berenjena esté bien cocida, suave y el líquido se haya evaporado, dejando una mezcla espesa. Pruebe la sal y el nivel de picante, y ajuste según su preferencia.']\n",
      "['1. Para comenzar, precaliente el horno a 350 grados F (175 grados C).\\n2. Luego, sumerja las rodajas de berenjena en huevo y después en pan rallado.\\n3. Coloque las rodajas en una bandeja para hornear en una sola capa.\\n4. Hornee en el horno precalentado durante 5 minutos por cada lado.\\n5. A continuación, en una fuente para hornear de 9x13 pulgadas, extienda la salsa para espaguetis cubriendo el fondo.\\n6. Por último, coloque una capa de rodajas de berenjena sobre la salsa.']\n",
      "['Berenjena. Un sustantivo insultante para describir a una persona estúpida o inútil, muy similar a la planta real. Es mejor usarlo en una persona de baja inteligencia, ya que no entienden que se les llama berenjena.']\n",
      "['¿Cuál es el lugar más cercano para comprar un automóvil?']\n",
      "['La medida de las tierras de cultivo cultivables en la Tierra puede ser interesante. Al igual que las personas, la tierra tiene diversas formas y puede cambiar con el tiempo debido a eventos como inundaciones o sequías.']\n",
      "['La mejor época para cultivar tilos es en otoño, después de que las hojas hayan caído. Sin embargo, también es posible cultivar plántulas en contenedores en cualquier momento del año y luego trasplantarlas al campo más adelante. Los árboles de sombra de tilo prosperan en suelos neutros y ácidos. Para plantar una plántula, cava un hoyo en el suelo y colócala allí.']\n",
      "________________________________________________________________________________\n",
      "['¿En qué parte del cuerpo comienza el dolor del apéndice?']\n",
      "****************************************\n",
      "['En caso de experimentar un dolor agudo que se desplaza del ombligo hacia el área sobre el apéndice, especialmente si ha notado una progresión distinta como esta, se recomienda acudir directamente a la sala de emergencias. En los adultos, los síntomas de la apendicitis pueden empeorar en un lapso de 4 a 48 horas.']\n",
      "['1. Se experimenta un dolor repentino alrededor del ombligo que se desplaza hacia la parte inferior derecha del abdomen en las próximas horas.\\n2. El área dolorosa es sensible al tacto y la pared abdominal por encima del apéndice está rígida.\\n3. Al ejercer presión en el lado izquierdo del abdomen y liberarla rápidamente, se desencadena dolor por encima del apéndice (sensibilidad de rebote, signo de Rovsing).\\nEstos son los síntomas comunes de la apendicitis aguda.']\n",
      "['La apendicitis crónica, también conocida como apéndice quejumbroso, comparte similitudes con la apendicitis aguda. Los médicos pueden identificar esta condición mediante diferentes enfoques, como localizar el dolor del paciente en el área del apéndice o alrededor de él. A diferencia de la apendicitis aguda, el dolor del apéndice quejumbroso es crónico y de intensidad leve a moderada, no tan severo.']\n",
      "['El apéndice se encuentra en el cuadrante inferior derecho del abdomen. Si coloca su mano sobre su abdomen con la punta del dedo meñique apenas tocando el hueso pélvico y el pulgar en el ombligo, el apéndice generalmente se encuentra justo debajo, cerca de donde aterriza el dedo medio.']\n",
      "['El apéndice es un tubo ciego que se encuentra en la primera parte del intestino grueso, conocida como ciego. En la mayoría de las personas, el apéndice se ubica en la parte inferior derecha del abdomen. Tiene una longitud promedio de aproximadamente 5-10 cm y es bastante estrecho.']\n",
      "['El apéndice es un órgano que mide hasta seis pulgadas de largo y se encuentra en la parte inferior derecha del abdomen. Aunque no es necesario para vivir, su función exacta no es muy conocida. Cuando el apéndice se inflama, se le llama apendicitis.']\n",
      "['El apéndice es una estructura en forma de bolsa estrecha que sobresale del colon. Cuando el apéndice se inflama y se llena de pus, se produce la apendicitis.']\n",
      "['Es crucial que el apéndice sea removido antes de que se rompa. La extirpación del apéndice, conocida como apendicectomía, puede realizarse mediante una incisión de dos o tres pulgadas en la parte inferior derecha del abdomen, o a través de una cirugía laparoscópica.']\n",
      "['El apéndice es un tubo delgado de aproximadamente cuatro pulgadas de largo que se encuentra en la unión del intestino delgado y el intestino grueso. Por lo general, se encuentra en la parte inferior derecha del abdomen. Aunque se desconoce su función.']\n",
      "['Si experimentas síntomas de apendicitis, como vómitos y un dolor insoportable, es importante buscar atención médica de inmediato. Sin embargo, ten en cuenta que como hombre, no tienes ovarios, por lo que los síntomas relacionados con los ovarios no serían relevantes en tu caso.']\n",
      "________________________________________________________________________________\n",
      "['Dos científicos fueron responsables de establecer la estructura del ADN.']\n",
      "****************************************\n",
      "['El gen de la calvicie o el gen de los ojos azules son términos comúnmente utilizados para referirse a ciertos genes específicos. En 1953, James Watson y Francis Crick descubrieron la estructura del ADN, que es una doble hélice similar a una escalera retorcida. Los lados de la escalera están compuestos por moléculas alternas de azúcar y fosfato, siendo el azúcar desoxirribosa. En la representación, los fosfatos están coloreados de rojo y están etiquetados con una \"p\".']\n",
      "['El ADN, también conocido como Ácido Desoxirribonucleico, contiene desoxirribosa, que es un azúcar pentosa. El ADN está compuesto por bases nitrogenadas, que son adenina, guanina, citosina y timina. Las moléculas de ADN tienen una estructura en forma de escalera, con dos cadenas de polinucleótidos unidas.']\n",
      "['A pesar de las semejanzas en los genomas de humanos y chimpancés, los científicos han descubierto alrededor de 40 millones de diferencias entre los tres mil millones de moléculas de ADN, o nucleótidos, en cada genoma.']\n",
      "['Los científicos tenían conocimiento de que el ADN podía desenrollarse del nucleosoma, pero se creía que los extremos eran simétricos, lo que implicaba que desenrollar el ADN sería similar a desatar un zapato. Sin embargo, investigadores de la Universidad de Illinois descubrieron que el ADN es en realidad muy asimétrico, similar a una cuerda enrollada alrededor de un yoyo.']\n",
      "['Se aísla el gen de una célula, el cual se encuentra en el ADN de un cromosoma. Se utilizan proteínas especiales para cortar ciertas secciones de ADN. El gen puede ser aislado y copiado para obtener múltiples copias del mismo. En 1973, los científicos Boyer y Cohen desarrollaron la tecnología de ADN recombinante, que consiste en insertar el ADN de un organismo en el ADN de las bacterias. Para esto, se extrae un plásmido circular de una célula bacteriana.']\n",
      "['Los nucleótidos del ADN se componen de tres elementos básicos: un azúcar, un fosfato y una de las cuatro bases posibles. La secuencia y el orden de estas bases codifican la información genética. Cada nucleótido consta de una pentosa, que es un azúcar de 5 carbonos (ribosa en el ARN y desoxirribosa en el ADN), una base nitrogenada (adenina, timina, guanina, citosina y uracilo) y un grupo fosfato. En el ADN o ARN, los grupos fosfato se unen a las moléculas de azúcar para formar un polinucleótido.']\n",
      "['El ADN es un polímero de doble hélice formado por ácidos nucleicos. Está compuesto por nucleótidos que se unen para formar pares de bases. En la estructura de doble hélice más común, conocida como BDNA, hay aproximadamente 10,5 pares de bases por vuelta, lo que equivale a unos 2021 nucleótidos por vuelta. El ADN tiene un surco mayor y un surco menor en su estructura de doble hélice. Dos regiones complementarias de moléculas de ácido nucleico pueden unirse y formar una estructura de doble hélice mediante la unión de pares de bases. En biología molecular, el término \"doble hélice\" se refiere a la estructura formada por moléculas bicatenarias de ácidos nucleicos como el ADN.']\n",
      "['Los ácidos nucleicos, como el ADN (ácido desoxirribonucleico) y el ARN (ácido ribonucleico), están compuestos por unidades más pequeñas llamadas nucleótidos. Cada nucleótido está compuesto por tres partes: un azúcar de 5 carbonos, un grupo fosfato y una base nitrogenada. Dependiendo del tipo de azúcar presente, el polímero resultante puede ser ADN si contiene desoxirribosa, o ARN si contiene ribosa.']\n",
      "['Un nucleótido se compone de una molécula de azúcar, una molécula de fosfato y una de las cuatro bases (adenina, guanina, timina, citosina). A continuación se muestra la fórmula estructural de los cuatro nucleótidos del ADN.']\n",
      "['Existen cuatro tipos de nucleótidos de ADN, cada uno caracterizado por una base nitrogenada específica. Estas bases son: adenina (A), timina (T), guanina (G) y citosina (C).']\n",
      "________________________________________________________________________________\n",
      "['¿Cuál es el origen del término \"laico\"?']\n",
      "****************************************\n",
      "['El término \"explicación en lenguaje laico\" se refiere a la forma de explicar una idea o concepto sin utilizar terminología especializada o jerga específica del campo al que pertenece. Es una forma de explicación que busca que una persona promedio, que no tiene un conocimiento profundo sobre el tema, pueda comprender el concepto básico que se está describiendo.']\n",
      "['El término \"lego\" se utiliza para describir a una persona que no es un experto en un campo de conocimiento específico. A lo largo del tiempo, la definición del término \"laico\" ha evolucionado para significar eso. En el mundo de habla inglesa, el concepto de describir algo en términos sencillos se ha vuelto común.']\n",
      "['El nombre Christopher es de origen griego y su significado en griego es \"portador de Cristo\". Se cree que San Cristóbal, patrón de los viajeros, llevó al niño Jesús a través de un río.']\n",
      "['En el diccionario jurídico, en la sección de aplicación de la ley, se encuentra una definición parcial de sedición.']\n",
      "['En la tradición nórdica, Ragnar tenía el derecho de dibujar el águila de sangre en la espalda de Borg. Durante este proceso, se reproduce la canción \"Loeyndomsriss\" de Wardruna. Esta canción forma parte de una invocación más amplia a Thurses.']\n",
      "['El video explica el significado de la expresión \"ley trillada\", que se refiere a cosas o leyes que son obvias o de conocimiento común. También muestra cómo pronunciar y define la expresión utilizando un diccionario de audio. El video fue desarrollado por MaryTTS y Wiktionary.']\n",
      "['Llamar a un hombre de Gloucester un neoescocés no es bien recibido. Sin embargo, es importante destacar que él fue tanto hijo de Nueva Escocia como su creador. Mientras tanto, los irlandeses de Nueva Escocia se habían rebelado en su contra. Así era el sistema y la teoría de gobierno en Nueva Escocia. En julio, él respondió de manera negativa a la solicitud de Nueva Escocia. No se extiende a todas las tierras conocidas, como por ejemplo Nova Zembla. En 1808, se hizo un último intento por legalizar la esclavitud en Nueva Escocia.']\n",
      "['De acuerdo con Etymology Online, el término \"niño\" para referirse a un niño humano se estableció en el uso informal del inglés en 1812, pero se utilizó como jerga ya en 1590.']\n",
      "['El sufijo \"ful\" puede ser utilizado para formar sustantivos o adjetivos, como \"plato\" o \"alegre\". A veces, las personas cometen el error de escribir estas palabras con una \"l\" doble al final.']\n",
      "['En el contexto de la aplicación de la ley, se ofrece una definición parcial de límite mínimo. Esta definición se encuentra en la entrada principal de \"Aplicación de la ley\" en el diccionario jurídico. Además, en esta sección también se proporciona una definición parcial de bandera de tregua.']\n",
      "________________________________________________________________________________\n"
     ]
    }
   ],
   "source": [
    "#### validaciones\n",
    "for query_id in list(resultado.keys())[:5]:\n",
    "    print(test_query_data.query(f'query_id==\"{query_id}\"')['query'].values)\n",
    "    print('*'*40)\n",
    "    for document_id in resultado[query_id]:\n",
    "        print(test_documents_data[test_documents_data.document_id==document_id].document.values)\n",
    "    print('__'*40)"
   ]
  },
  {
   "attachments": {
    "image.png": {
     "image/png": "[encoded data removed]"
    }
   },
   "cell_type": "markdown",
   "metadata": {},
   "source": [
    "#### Conclusiones\n",
    "\n",
    "- Gurdandose los documentos indexados y embebidos con una ejecucion costo inicial de 0.06 dolares de 4000 documentos y usando la api de Open AI siendo el modelo mas eficiente se hace un analisis de costo basado pricing y de viabilidad del uso de la api teniedo el promedio de tokens por query de 12 y el costo por cada mil tokens para el modelo ada V2 es de 0.00010 haciendo las opereciones respectivas por cada dolar podemos realizar 833.333 querys =1/(0.00010/1000*12), y dada una base de 32000 colaboradores en una organizacion y asumiendo 10 consultas en promedio por dia por colaborador,y 20 dias laborales se tendria un costo para busqueda de documentos previamiente indexados de 7,68 dolares al mes, siendo entonces esta una opción viable y economica para la organización, teniendo como riesgo el envio de información a openAI donde se debe revisar los terminos y condiciones para realizar el embedding de los documentos teniendo como garantia la confidencialidad de la información\n",
    "\n",
    "\n",
    "![image.png](attachment:image.png)"
   ]
  },
  {
   "cell_type": "code",
   "execution_count": 16,
   "metadata": {},
   "outputs": [
    {
     "data": {
      "text/plain": [
       "11.9"
      ]
     },
     "execution_count": 16,
     "metadata": {},
     "output_type": "execute_result"
    }
   ],
   "source": [
    "train_data.n_tokens_query.mean()"
   ]
  }
 ],
 "metadata": {
  "kernelspec": {
   "display_name": "DataScience",
   "language": "python",
   "name": "python3"
  },
  "language_info": {
   "codemirror_mode": {
    "name": "ipython",
    "version": 3
   },
   "file_extension": ".py",
   "mimetype": "text/x-python",
   "name": "python",
   "nbconvert_exporter": "python",
   "pygments_lexer": "ipython3",
   "version": "3.10.4"
  }
 },
 "nbformat": 4,
 "nbformat_minor": 2
}
